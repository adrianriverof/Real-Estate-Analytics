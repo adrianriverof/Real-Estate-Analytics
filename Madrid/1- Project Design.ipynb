{
 "cells": [
  {
   "cell_type": "markdown",
   "id": "65619eaf",
   "metadata": {},
   "source": [
    "# PROJECT DESIGN"
   ]
  },
  {
   "cell_type": "markdown",
   "id": "e3419713",
   "metadata": {},
   "source": [
    "This case simulates the scenario of being a real estate company that invests in major cities by purchasing properties to later rent them out as vacation apartments.\n",
    "\n",
    "The management team has decided to invest in Madrid and has tasked us with analyzing publicly available data from the industry leader, Airbnb, to identify the types of properties with the highest commercial potential for short-term rentals.\n",
    "\n",
    "The main deliverable is to determine the property types (or typologies) that the valuation team should prioritize among the available opportunities in the city, as well as the key neighborhoods or geographic areas to focus on.\n",
    "\n",
    "To achieve this goal, we will apply a Discovery methodology and use BA techniques. Although this specific case focuses on vacation rentals, the same approach can be applied to other location-driven scenarios, such as\n",
    "\n",
    "* Opening and closing stores\n",
    "* Reducing installed capacity\n",
    "* Franchise expansion\n",
    "* etc"
   ]
  },
  {
   "cell_type": "markdown",
   "id": "f1a9a140",
   "metadata": {},
   "source": [
    "## GOAL"
   ]
  },
  {
   "cell_type": "markdown",
   "id": "6ce1948e",
   "metadata": {},
   "source": [
    "Locate the profile(s) of properties that maximize commercial potential in the tourist rental market and the main areas in which to look for them."
   ]
  },
  {
   "cell_type": "markdown",
   "id": "8fb8aca2",
   "metadata": {},
   "source": [
    "## LEVERS"
   ]
  },
  {
   "cell_type": "markdown",
   "id": "bce8b575",
   "metadata": {},
   "source": [
    "We will assume that the levers that have the greatest impact on the profitability of this type of investment are:\n",
    "\n",
    "* **Rental price**: the more you can charge per night, the greater the profitability\n",
    "* **Occupancy**: in general, the more days a year a property can be rented, the greater its profitability\n",
    "* **Property price**: the cheaper the property can be acquired, the greater the profitability"
   ]
  },
  {
   "cell_type": "markdown",
   "id": "d321de30",
   "metadata": {},
   "source": [
    "## KPIs"
   ]
  },
  {
   "cell_type": "markdown",
   "id": "dc75cf61",
   "metadata": {},
   "source": [
    "Kpis in this case are very clear:\n",
    "\n",
    "* We will measure occupancy as the number of days per year that the property can be rented\n",
    "* We will measure the rental price as the price per night in euros according to Airbnb\n",
    "* We will measure the price of a property as the multiplication between the number of square meters and the average price per m2 in its area, and we will apply a 25% discount on the official price due to the negotiating strength of our hypotetical purchasing team.\n"
   ]
  },
  {
   "cell_type": "markdown",
   "id": "28a6275a",
   "metadata": {},
   "source": [
    "## ENTITIES AND DATA"
   ]
  },
  {
   "cell_type": "markdown",
   "id": "43bda11d",
   "metadata": {},
   "source": [
    "The relevant entities for our goals and the ones available are:\n",
    "\n",
    "* Properties\n",
    "* Owners\n",
    "* Districts\n",
    "\n",
    "We will review the specific data for each of them in the next notebook."
   ]
  },
  {
   "cell_type": "markdown",
   "id": "80de46d9",
   "metadata": {},
   "source": [
    "## SEED QUESTIONS"
   ]
  },
  {
   "cell_type": "markdown",
   "id": "d8fd1d3e",
   "metadata": {},
   "source": [
    "About the rental price:\n",
    "\n",
    "* What is the average price? And the price range? And by district? And by neighborhood?\n",
    "* What is the ranking of districts and neighborhoods by average rental price?\n",
    "* What factors (apart from location) determine the rental price?\n",
    "* What is the relationship between the size of the property and the price for which it can be rented?\n",
    "* How does competition (number of properties available per district) influence the rental price?\n",
    "* How do prices vary by type of rental (entire apartment, private room, shared room)?\n",
    "\n",
    "On occupancy:\n",
    "\n",
    "* What is the average occupancy? And by district? And by neighborhood?\n",
    "* How likely is each level of occupancy in each district?\n",
    "* What is the ranking of districts and neighborhoods by occupancy?\n",
    "* What factors (apart from location) determine occupancy?\n",
    "* What is the relationship between the size of the property and its degree of occupancy?\n",
    "* How does competition (number of properties available per neighborhood) influence occupancy?\n",
    "\n",
    "On purchase price:\n",
    "\n",
    "* What is the ranking of price per m2 by district?\n",
    "* What is the ranking of property price (m2 * average size) by district?\n",
    "* What is the relationship between property price and rental price by district?\n",
    "* What is the relationship between property price and occupancy by district?"
   ]
  }
 ],
 "metadata": {
  "kernelspec": {
   "display_name": "Python 3 (ipykernel)",
   "language": "python",
   "name": "python3"
  },
  "language_info": {
   "codemirror_mode": {
    "name": "ipython",
    "version": 3
   },
   "file_extension": ".py",
   "mimetype": "text/x-python",
   "name": "python",
   "nbconvert_exporter": "python",
   "pygments_lexer": "ipython3",
   "version": "3.8.18"
  },
  "toc": {
   "base_numbering": 1,
   "nav_menu": {},
   "number_sections": true,
   "sideBar": true,
   "skip_h1_title": false,
   "title_cell": "Table of Contents",
   "title_sidebar": "Contents",
   "toc_cell": false,
   "toc_position": {},
   "toc_section_display": true,
   "toc_window_display": true
  },
  "varInspector": {
   "cols": {
    "lenName": 16,
    "lenType": 16,
    "lenVar": 40
   },
   "kernels_config": {
    "python": {
     "delete_cmd_postfix": "",
     "delete_cmd_prefix": "del ",
     "library": "var_list.py",
     "varRefreshCmd": "print(var_dic_list())"
    },
    "r": {
     "delete_cmd_postfix": ") ",
     "delete_cmd_prefix": "rm(",
     "library": "var_list.r",
     "varRefreshCmd": "cat(var_dic_list()) "
    }
   },
   "types_to_exclude": [
    "module",
    "function",
    "builtin_function_or_method",
    "instance",
    "_Feature"
   ],
   "window_display": true
  }
 },
 "nbformat": 4,
 "nbformat_minor": 5
}
