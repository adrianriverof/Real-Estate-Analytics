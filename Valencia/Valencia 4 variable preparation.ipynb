{
 "cells": [
  {
   "cell_type": "code",
   "execution_count": 2,
   "id": "aa0a95d9",
   "metadata": {},
   "outputs": [],
   "source": [
    "import numpy as np\n",
    "import pandas as pd\n",
    "import matplotlib.pyplot as plt\n",
    "%matplotlib inline\n",
    "import seaborn as sns\n",
    "import sqlalchemy as sa\n",
    "\n",
    "%config IPCompleter.greedy=True\n",
    "\n",
    "pd.options.display.max_columns = None"
   ]
  },
  {
   "cell_type": "code",
   "execution_count": 3,
   "id": "50f5c96b",
   "metadata": {},
   "outputs": [
    {
     "data": {
      "text/html": [
       "<div>\n",
       "<style scoped>\n",
       "    .dataframe tbody tr th:only-of-type {\n",
       "        vertical-align: middle;\n",
       "    }\n",
       "\n",
       "    .dataframe tbody tr th {\n",
       "        vertical-align: top;\n",
       "    }\n",
       "\n",
       "    .dataframe thead th {\n",
       "        text-align: right;\n",
       "    }\n",
       "</style>\n",
       "<table border=\"1\" class=\"dataframe\">\n",
       "  <thead>\n",
       "    <tr style=\"text-align: right;\">\n",
       "      <th></th>\n",
       "      <th>index</th>\n",
       "      <th>id</th>\n",
       "      <th>name</th>\n",
       "      <th>host_id</th>\n",
       "      <th>neighbourhood_group</th>\n",
       "      <th>neighbourhood</th>\n",
       "      <th>latitude</th>\n",
       "      <th>longitude</th>\n",
       "      <th>room_type</th>\n",
       "      <th>price</th>\n",
       "      <th>minimum_nights</th>\n",
       "      <th>calculated_host_listings_count</th>\n",
       "      <th>availability_365</th>\n",
       "      <th>description</th>\n",
       "      <th>host_is_superhost</th>\n",
       "      <th>accommodates</th>\n",
       "      <th>bathrooms</th>\n",
       "      <th>bedrooms</th>\n",
       "      <th>beds</th>\n",
       "      <th>number_of_reviews</th>\n",
       "      <th>review_scores_rating</th>\n",
       "      <th>review_scores_communication</th>\n",
       "      <th>review_scores_location</th>\n",
       "      <th>precio_m2</th>\n",
       "      <th>distrito</th>\n",
       "    </tr>\n",
       "  </thead>\n",
       "  <tbody>\n",
       "    <tr>\n",
       "      <th>0</th>\n",
       "      <td>0</td>\n",
       "      <td>48154</td>\n",
       "      <td>Precioso apartamento con wifi</td>\n",
       "      <td>219476</td>\n",
       "      <td>LA SAIDIA</td>\n",
       "      <td>MORVEDRE</td>\n",
       "      <td>39.48375</td>\n",
       "      <td>-0.37502</td>\n",
       "      <td>Entire home/apt</td>\n",
       "      <td>92.0</td>\n",
       "      <td>3</td>\n",
       "      <td>4</td>\n",
       "      <td>81</td>\n",
       "      <td>Second floor on a farm from the late 19th cent...</td>\n",
       "      <td>f</td>\n",
       "      <td>4</td>\n",
       "      <td>1.0</td>\n",
       "      <td>2.0</td>\n",
       "      <td>2.0</td>\n",
       "      <td>161</td>\n",
       "      <td>4.60</td>\n",
       "      <td>4.78</td>\n",
       "      <td>4.49</td>\n",
       "      <td>2479</td>\n",
       "      <td>LA SAIDIA</td>\n",
       "    </tr>\n",
       "    <tr>\n",
       "      <th>1</th>\n",
       "      <td>1</td>\n",
       "      <td>136378</td>\n",
       "      <td>Old City Charm with Modern Comfort</td>\n",
       "      <td>591197</td>\n",
       "      <td>CIUTAT VELLA</td>\n",
       "      <td>EL MERCAT</td>\n",
       "      <td>39.47358</td>\n",
       "      <td>-0.37815</td>\n",
       "      <td>Entire home/apt</td>\n",
       "      <td>75.0</td>\n",
       "      <td>28</td>\n",
       "      <td>2</td>\n",
       "      <td>0</td>\n",
       "      <td>None</td>\n",
       "      <td>f</td>\n",
       "      <td>3</td>\n",
       "      <td>1.0</td>\n",
       "      <td>1.0</td>\n",
       "      <td>2.0</td>\n",
       "      <td>25</td>\n",
       "      <td>4.46</td>\n",
       "      <td>4.80</td>\n",
       "      <td>4.84</td>\n",
       "      <td>3832</td>\n",
       "      <td>CIUTAT VELLA</td>\n",
       "    </tr>\n",
       "    <tr>\n",
       "      <th>2</th>\n",
       "      <td>2</td>\n",
       "      <td>149715</td>\n",
       "      <td>1900 Style Valencian Beach  Home for 10px</td>\n",
       "      <td>5947</td>\n",
       "      <td>POBLATS MARITIMS</td>\n",
       "      <td>CABANYAL-CANYAMELAR</td>\n",
       "      <td>39.46746</td>\n",
       "      <td>-0.32813</td>\n",
       "      <td>Entire home/apt</td>\n",
       "      <td>269.0</td>\n",
       "      <td>2</td>\n",
       "      <td>1</td>\n",
       "      <td>260</td>\n",
       "      <td>Typical town house with 5 bedrooms and 3 and a...</td>\n",
       "      <td>f</td>\n",
       "      <td>10</td>\n",
       "      <td>4.0</td>\n",
       "      <td>5.0</td>\n",
       "      <td>7.0</td>\n",
       "      <td>259</td>\n",
       "      <td>4.66</td>\n",
       "      <td>4.89</td>\n",
       "      <td>4.59</td>\n",
       "      <td>2662</td>\n",
       "      <td>POBLATS MARITIMS</td>\n",
       "    </tr>\n",
       "    <tr>\n",
       "      <th>3</th>\n",
       "      <td>3</td>\n",
       "      <td>165971</td>\n",
       "      <td>★ Architectural touch! ★</td>\n",
       "      <td>791187</td>\n",
       "      <td>EXTRAMURS</td>\n",
       "      <td>LA ROQUETA</td>\n",
       "      <td>39.46790</td>\n",
       "      <td>-0.38206</td>\n",
       "      <td>Entire home/apt</td>\n",
       "      <td>132.0</td>\n",
       "      <td>5</td>\n",
       "      <td>7</td>\n",
       "      <td>16</td>\n",
       "      <td>Hola! I am ready to welcome you in my apt., wh...</td>\n",
       "      <td>None</td>\n",
       "      <td>5</td>\n",
       "      <td>1.0</td>\n",
       "      <td>1.0</td>\n",
       "      <td>1.0</td>\n",
       "      <td>517</td>\n",
       "      <td>4.87</td>\n",
       "      <td>4.87</td>\n",
       "      <td>4.83</td>\n",
       "      <td>3125</td>\n",
       "      <td>EXTRAMURS</td>\n",
       "    </tr>\n",
       "    <tr>\n",
       "      <th>4</th>\n",
       "      <td>4</td>\n",
       "      <td>182221</td>\n",
       "      <td>Apartments Calatrava City Valencia</td>\n",
       "      <td>1315567</td>\n",
       "      <td>CAMINS AL GRAU</td>\n",
       "      <td>AIORA</td>\n",
       "      <td>39.46343</td>\n",
       "      <td>-0.34325</td>\n",
       "      <td>Entire home/apt</td>\n",
       "      <td>180.0</td>\n",
       "      <td>3</td>\n",
       "      <td>2</td>\n",
       "      <td>336</td>\n",
       "      <td>None</td>\n",
       "      <td>f</td>\n",
       "      <td>5</td>\n",
       "      <td>1.0</td>\n",
       "      <td>2.0</td>\n",
       "      <td>5.0</td>\n",
       "      <td>8</td>\n",
       "      <td>4.50</td>\n",
       "      <td>4.63</td>\n",
       "      <td>4.25</td>\n",
       "      <td>2896</td>\n",
       "      <td>CAMINS AL GRAU</td>\n",
       "    </tr>\n",
       "  </tbody>\n",
       "</table>\n",
       "</div>"
      ],
      "text/plain": [
       "   index      id                                       name  host_id  \\\n",
       "0      0   48154              Precioso apartamento con wifi   219476   \n",
       "1      1  136378         Old City Charm with Modern Comfort   591197   \n",
       "2      2  149715  1900 Style Valencian Beach  Home for 10px     5947   \n",
       "3      3  165971                   ★ Architectural touch! ★   791187   \n",
       "4      4  182221         Apartments Calatrava City Valencia  1315567   \n",
       "\n",
       "  neighbourhood_group        neighbourhood  latitude  longitude  \\\n",
       "0           LA SAIDIA             MORVEDRE  39.48375   -0.37502   \n",
       "1        CIUTAT VELLA            EL MERCAT  39.47358   -0.37815   \n",
       "2    POBLATS MARITIMS  CABANYAL-CANYAMELAR  39.46746   -0.32813   \n",
       "3           EXTRAMURS           LA ROQUETA  39.46790   -0.38206   \n",
       "4      CAMINS AL GRAU                AIORA  39.46343   -0.34325   \n",
       "\n",
       "         room_type  price  minimum_nights  calculated_host_listings_count  \\\n",
       "0  Entire home/apt   92.0               3                               4   \n",
       "1  Entire home/apt   75.0              28                               2   \n",
       "2  Entire home/apt  269.0               2                               1   \n",
       "3  Entire home/apt  132.0               5                               7   \n",
       "4  Entire home/apt  180.0               3                               2   \n",
       "\n",
       "   availability_365                                        description  \\\n",
       "0                81  Second floor on a farm from the late 19th cent...   \n",
       "1                 0                                               None   \n",
       "2               260  Typical town house with 5 bedrooms and 3 and a...   \n",
       "3                16  Hola! I am ready to welcome you in my apt., wh...   \n",
       "4               336                                               None   \n",
       "\n",
       "  host_is_superhost  accommodates  bathrooms  bedrooms  beds  \\\n",
       "0                 f             4        1.0       2.0   2.0   \n",
       "1                 f             3        1.0       1.0   2.0   \n",
       "2                 f            10        4.0       5.0   7.0   \n",
       "3              None             5        1.0       1.0   1.0   \n",
       "4                 f             5        1.0       2.0   5.0   \n",
       "\n",
       "   number_of_reviews  review_scores_rating  review_scores_communication  \\\n",
       "0                161                  4.60                         4.78   \n",
       "1                 25                  4.46                         4.80   \n",
       "2                259                  4.66                         4.89   \n",
       "3                517                  4.87                         4.87   \n",
       "4                  8                  4.50                         4.63   \n",
       "\n",
       "   review_scores_location  precio_m2          distrito  \n",
       "0                    4.49       2479         LA SAIDIA  \n",
       "1                    4.84       3832      CIUTAT VELLA  \n",
       "2                    4.59       2662  POBLATS MARITIMS  \n",
       "3                    4.83       3125         EXTRAMURS  \n",
       "4                    4.25       2896    CAMINS AL GRAU  "
      ]
     },
     "execution_count": 3,
     "metadata": {},
     "output_type": "execute_result"
    }
   ],
   "source": [
    "con = sa.create_engine('sqlite:///DatosValencia/airbnbValencia.db')\n",
    "\n",
    "df = pd.read_sql('df', con = con)\n",
    "\n",
    "df.head()"
   ]
  },
  {
   "cell_type": "code",
   "execution_count": 4,
   "id": "10a84890",
   "metadata": {},
   "outputs": [
    {
     "data": {
      "text/plain": [
       "distrito\n",
       "POBLATS MARITIMS     1762\n",
       "CIUTAT VELLA         1468\n",
       "CAMINS AL GRAU        833\n",
       "QUATRE CARRERES       744\n",
       "L'EIXAMPLE            736\n",
       "EXTRAMURS             664\n",
       "LA SAIDIA             532\n",
       "ALGIROS               410\n",
       "L'OLIVERETA           281\n",
       "JESUS                 278\n",
       "PATRAIX               218\n",
       "EL PLA DEL REAL       204\n",
       "POBLATS DEL SUD       183\n",
       "RASCANYA              182\n",
       "BENICALAP             169\n",
       "BENIMACLET            148\n",
       "CAMPANAR              142\n",
       "POBLATS DE L'OEST      37\n",
       "POBLATS DEL NORD       11\n",
       "Name: count, dtype: int64"
      ]
     },
     "execution_count": 4,
     "metadata": {},
     "output_type": "execute_result"
    }
   ],
   "source": [
    "\n",
    "\n",
    "df.distrito.value_counts()"
   ]
  },
  {
   "cell_type": "code",
   "execution_count": 5,
   "id": "a208e764",
   "metadata": {},
   "outputs": [
    {
     "data": {
      "text/plain": [
       "room_type\n",
       "Entire home/apt    159.701326\n",
       "Private room        56.585890\n",
       "Shared room         90.000000\n",
       "Name: price, dtype: float64"
      ]
     },
     "execution_count": 5,
     "metadata": {},
     "output_type": "execute_result"
    }
   ],
   "source": [
    "\n",
    "df.loc[df.distrito == \"POBLATS MARITIMS\", :].groupby(\"room_type\").price.mean()\n"
   ]
  },
  {
   "cell_type": "code",
   "execution_count": 6,
   "id": "faea197b",
   "metadata": {},
   "outputs": [],
   "source": [
    "# calculate total price per property\n",
    "\n",
    "# we create an adjustment factor, ASSUMPTING that this is given to us by an expert\n"
   ]
  },
  {
   "cell_type": "code",
   "execution_count": 9,
   "id": "088d0e28",
   "metadata": {},
   "outputs": [
    {
     "name": "stdout",
     "output_type": "stream",
     "text": [
      "<class 'pandas.core.frame.DataFrame'>\n",
      "RangeIndex: 9002 entries, 0 to 9001\n",
      "Data columns (total 25 columns):\n",
      " #   Column                          Non-Null Count  Dtype  \n",
      "---  ------                          --------------  -----  \n",
      " 0   index                           9002 non-null   int64  \n",
      " 1   id                              9002 non-null   int64  \n",
      " 2   name                            9002 non-null   object \n",
      " 3   host_id                         9002 non-null   int64  \n",
      " 4   neighbourhood_group             9002 non-null   object \n",
      " 5   neighbourhood                   9002 non-null   object \n",
      " 6   latitude                        9002 non-null   float64\n",
      " 7   longitude                       9002 non-null   float64\n",
      " 8   room_type                       9002 non-null   object \n",
      " 9   price                           9002 non-null   float64\n",
      " 10  minimum_nights                  9002 non-null   int64  \n",
      " 11  calculated_host_listings_count  9002 non-null   int64  \n",
      " 12  availability_365                9002 non-null   int64  \n",
      " 13  description                     8730 non-null   object \n",
      " 14  host_is_superhost               8719 non-null   object \n",
      " 15  accommodates                    9002 non-null   int64  \n",
      " 16  bathrooms                       9002 non-null   float64\n",
      " 17  bedrooms                        9002 non-null   float64\n",
      " 18  beds                            9002 non-null   float64\n",
      " 19  number_of_reviews               9002 non-null   int64  \n",
      " 20  review_scores_rating            7343 non-null   float64\n",
      " 21  review_scores_communication     7339 non-null   float64\n",
      " 22  review_scores_location          7339 non-null   float64\n",
      " 23  precio_m2                       9002 non-null   int64  \n",
      " 24  distrito                        9002 non-null   object \n",
      "dtypes: float64(9), int64(9), object(7)\n",
      "memory usage: 1.7+ MB\n"
     ]
    }
   ],
   "source": [
    "df.info()"
   ]
  },
  {
   "cell_type": "code",
   "execution_count": 6,
   "id": "199fb5fd",
   "metadata": {},
   "outputs": [
    {
     "data": {
      "text/plain": [
       "0        92.0\n",
       "1        75.0\n",
       "2       269.0\n",
       "3       132.0\n",
       "4       180.0\n",
       "        ...  \n",
       "8997     90.0\n",
       "8998     39.0\n",
       "8999     57.0\n",
       "9000    400.0\n",
       "9001     70.0\n",
       "Name: precio_total, Length: 9002, dtype: float64"
      ]
     },
     "execution_count": 6,
     "metadata": {},
     "output_type": "execute_result"
    }
   ],
   "source": [
    "# we want to homogenize all the flats,\n",
    "# a piece of information that would give us the capacity of the flat to generate money\n",
    "\n",
    "\n",
    "def crear_precio_total(registro):\n",
    "    if (registro.bedrooms > 1) & \\\n",
    "    ((registro.room_type == \"Private room\") | (registro.room_type == \"Shared room\")):\n",
    "        #when it is a private or shared room, that is, it is not the entire apartment\n",
    "        #and it has at least one bed, otherwise I assume not (?)\n",
    "        #it would be more correct to say it with rooms instead of beds\n",
    "        salida = registro.price * registro.bedrooms * 0.7\n",
    "    else:\n",
    "        salida = registro.price\n",
    "    \n",
    "    return salida\n",
    "\n",
    "    \n",
    "df[\"precio_total\"] = df.apply(crear_precio_total, axis = 1) \n",
    "\n",
    "\n",
    "df[\"precio_total\"]    \n",
    "    "
   ]
  },
  {
   "cell_type": "code",
   "execution_count": 7,
   "id": "27a65886",
   "metadata": {},
   "outputs": [
    {
     "data": {
      "text/html": [
       "<div>\n",
       "<style scoped>\n",
       "    .dataframe tbody tr th:only-of-type {\n",
       "        vertical-align: middle;\n",
       "    }\n",
       "\n",
       "    .dataframe tbody tr th {\n",
       "        vertical-align: top;\n",
       "    }\n",
       "\n",
       "    .dataframe thead th {\n",
       "        text-align: right;\n",
       "    }\n",
       "</style>\n",
       "<table border=\"1\" class=\"dataframe\">\n",
       "  <thead>\n",
       "    <tr style=\"text-align: right;\">\n",
       "      <th></th>\n",
       "      <th>room_type</th>\n",
       "      <th>price</th>\n",
       "      <th>bedrooms</th>\n",
       "      <th>beds</th>\n",
       "      <th>precio_total</th>\n",
       "    </tr>\n",
       "  </thead>\n",
       "  <tbody>\n",
       "    <tr>\n",
       "      <th>49</th>\n",
       "      <td>Private room</td>\n",
       "      <td>68.0</td>\n",
       "      <td>2.0</td>\n",
       "      <td>2.0</td>\n",
       "      <td>95.2</td>\n",
       "    </tr>\n",
       "    <tr>\n",
       "      <th>156</th>\n",
       "      <td>Private room</td>\n",
       "      <td>60.0</td>\n",
       "      <td>2.0</td>\n",
       "      <td>1.0</td>\n",
       "      <td>84.0</td>\n",
       "    </tr>\n",
       "    <tr>\n",
       "      <th>317</th>\n",
       "      <td>Private room</td>\n",
       "      <td>120.0</td>\n",
       "      <td>3.0</td>\n",
       "      <td>2.0</td>\n",
       "      <td>252.0</td>\n",
       "    </tr>\n",
       "    <tr>\n",
       "      <th>352</th>\n",
       "      <td>Private room</td>\n",
       "      <td>35.0</td>\n",
       "      <td>2.0</td>\n",
       "      <td>2.0</td>\n",
       "      <td>49.0</td>\n",
       "    </tr>\n",
       "    <tr>\n",
       "      <th>425</th>\n",
       "      <td>Private room</td>\n",
       "      <td>56.0</td>\n",
       "      <td>2.0</td>\n",
       "      <td>2.0</td>\n",
       "      <td>78.4</td>\n",
       "    </tr>\n",
       "  </tbody>\n",
       "</table>\n",
       "</div>"
      ],
      "text/plain": [
       "        room_type  price  bedrooms  beds  precio_total\n",
       "49   Private room   68.0       2.0   2.0          95.2\n",
       "156  Private room   60.0       2.0   1.0          84.0\n",
       "317  Private room  120.0       3.0   2.0         252.0\n",
       "352  Private room   35.0       2.0   2.0          49.0\n",
       "425  Private room   56.0       2.0   2.0          78.4"
      ]
     },
     "execution_count": 7,
     "metadata": {},
     "output_type": "execute_result"
    }
   ],
   "source": [
    "\n",
    "df.loc[\n",
    "    (df[\"room_type\"] != 'Entire home/apt') & (df[\"bedrooms\"] != 1.0), \n",
    "    ['room_type', 'price', 'bedrooms', 'beds', 'precio_total']\n",
    "].head()\n",
    "\n"
   ]
  },
  {
   "cell_type": "code",
   "execution_count": 8,
   "id": "bf2c890e",
   "metadata": {},
   "outputs": [
    {
     "data": {
      "text/plain": [
       "0     81\n",
       "1      0\n",
       "2    260\n",
       "3     16\n",
       "4    336\n",
       "Name: availability_365, dtype: int64"
      ]
     },
     "execution_count": 8,
     "metadata": {},
     "output_type": "execute_result"
    }
   ],
   "source": [
    "df.availability_365.head()\n"
   ]
  },
  {
   "cell_type": "code",
   "execution_count": 9,
   "id": "2b74fa77",
   "metadata": {},
   "outputs": [
    {
     "data": {
      "text/plain": [
       "0        77\n",
       "1       100\n",
       "2        28\n",
       "3        95\n",
       "4         7\n",
       "       ... \n",
       "8997     75\n",
       "8998     78\n",
       "8999     86\n",
       "9000     26\n",
       "9001      0\n",
       "Name: ocupacion, Length: 9002, dtype: int64"
      ]
     },
     "execution_count": 9,
     "metadata": {},
     "output_type": "execute_result"
    }
   ],
   "source": [
    "\n",
    "\n",
    "df[\"ocupacion\"] = ((365 - df.availability_365)/365 * 100).astype('int64')\n",
    "\n",
    "df.ocupacion"
   ]
  },
  {
   "cell_type": "markdown",
   "id": "3687c58e",
   "metadata": {},
   "source": [
    "### 0 bedrooms "
   ]
  },
  {
   "cell_type": "code",
   "execution_count": 10,
   "id": "1f7b5e28",
   "metadata": {},
   "outputs": [
    {
     "data": {
      "text/plain": [
       "bedrooms        0.000000\n",
       "bathrooms       1.138787\n",
       "beds            1.617647\n",
       "accommodates    2.755515\n",
       "dtype: float64"
      ]
     },
     "execution_count": 10,
     "metadata": {},
     "output_type": "execute_result"
    }
   ],
   "source": [
    "#########\n",
    "\n",
    "df.loc[df.bedrooms<1, ['bedrooms', \"bathrooms\", \"beds\", 'accommodates']].mean()\n"
   ]
  },
  {
   "cell_type": "code",
   "execution_count": 11,
   "id": "87c0844a",
   "metadata": {},
   "outputs": [
    {
     "data": {
      "text/plain": [
       "bedrooms        1.000000\n",
       "bathrooms       1.148532\n",
       "beds            1.229769\n",
       "accommodates    2.409434\n",
       "dtype: float64"
      ]
     },
     "execution_count": 11,
     "metadata": {},
     "output_type": "execute_result"
    }
   ],
   "source": [
    "# does it more or less coincide with when there is a bedroom?\n",
    "\n",
    "df.loc[df.bedrooms==1, ['bedrooms', \"bathrooms\", \"beds\", 'accommodates']].mean()\n",
    "\n",
    "# yes, it matches quite well"
   ]
  },
  {
   "cell_type": "markdown",
   "id": "61482613",
   "metadata": {},
   "source": [
    "Given what we have seen, **we can conclude that the minimum bedrooms are 1**. So we will proceed to change all the corresponding cases."
   ]
  },
  {
   "cell_type": "code",
   "execution_count": 12,
   "id": "5990b5b6",
   "metadata": {},
   "outputs": [
    {
     "data": {
      "text/html": [
       "<div>\n",
       "<style scoped>\n",
       "    .dataframe tbody tr th:only-of-type {\n",
       "        vertical-align: middle;\n",
       "    }\n",
       "\n",
       "    .dataframe tbody tr th {\n",
       "        vertical-align: top;\n",
       "    }\n",
       "\n",
       "    .dataframe thead th {\n",
       "        text-align: right;\n",
       "    }\n",
       "</style>\n",
       "<table border=\"1\" class=\"dataframe\">\n",
       "  <thead>\n",
       "    <tr style=\"text-align: right;\">\n",
       "      <th></th>\n",
       "      <th>index</th>\n",
       "      <th>id</th>\n",
       "      <th>name</th>\n",
       "      <th>host_id</th>\n",
       "      <th>neighbourhood_group</th>\n",
       "      <th>neighbourhood</th>\n",
       "      <th>latitude</th>\n",
       "      <th>longitude</th>\n",
       "      <th>room_type</th>\n",
       "      <th>price</th>\n",
       "      <th>minimum_nights</th>\n",
       "      <th>calculated_host_listings_count</th>\n",
       "      <th>availability_365</th>\n",
       "      <th>description</th>\n",
       "      <th>host_is_superhost</th>\n",
       "      <th>accommodates</th>\n",
       "      <th>bathrooms</th>\n",
       "      <th>bedrooms</th>\n",
       "      <th>beds</th>\n",
       "      <th>number_of_reviews</th>\n",
       "      <th>review_scores_rating</th>\n",
       "      <th>review_scores_communication</th>\n",
       "      <th>review_scores_location</th>\n",
       "      <th>precio_m2</th>\n",
       "      <th>distrito</th>\n",
       "      <th>precio_total</th>\n",
       "      <th>ocupacion</th>\n",
       "    </tr>\n",
       "  </thead>\n",
       "  <tbody>\n",
       "  </tbody>\n",
       "</table>\n",
       "</div>"
      ],
      "text/plain": [
       "Empty DataFrame\n",
       "Columns: [index, id, name, host_id, neighbourhood_group, neighbourhood, latitude, longitude, room_type, price, minimum_nights, calculated_host_listings_count, availability_365, description, host_is_superhost, accommodates, bathrooms, bedrooms, beds, number_of_reviews, review_scores_rating, review_scores_communication, review_scores_location, precio_m2, distrito, precio_total, ocupacion]\n",
       "Index: []"
      ]
     },
     "execution_count": 12,
     "metadata": {},
     "output_type": "execute_result"
    }
   ],
   "source": [
    "df.loc[df.bedrooms==0, \"bedrooms\"] = 1.0\n",
    "\n",
    "df.loc[df.bedrooms==0]"
   ]
  },
  {
   "cell_type": "markdown",
   "id": "0c437ffa",
   "metadata": {},
   "source": [
    "### We discretize bedrooms again"
   ]
  },
  {
   "cell_type": "code",
   "execution_count": 13,
   "id": "e4fe6844",
   "metadata": {},
   "outputs": [
    {
     "data": {
      "image/png": "[encoded data removed]",
      "text/plain": [
       "<Figure size 640x480 with 1 Axes>"
      ]
     },
     "metadata": {},
     "output_type": "display_data"
    }
   ],
   "source": [
    "df.bedrooms.value_counts().plot.bar();"
   ]
  },
  {
   "cell_type": "code",
   "execution_count": 14,
   "id": "52ce9d77",
   "metadata": {},
   "outputs": [],
   "source": [
    "condiciones = [df.bedrooms == 0,\n",
    "               df.bedrooms == 1,\n",
    "               df.bedrooms == 2,\n",
    "               df.bedrooms == 3, \n",
    "               df.bedrooms > 3\n",
    "              ]\n",
    "\n",
    "resultados = [\"00_Cero\",\"01_Uno\", '02_Dos',\"03_Tres\", \"04_Cuatro_o_mas\"]\n",
    "\n",
    "\n",
    "df[\"bedrooms_disc\"]=np.select(condiciones, resultados, default = -999)"
   ]
  },
  {
   "cell_type": "code",
   "execution_count": 15,
   "id": "640b3244",
   "metadata": {},
   "outputs": [
    {
     "data": {
      "text/plain": [
       "0             02_Dos\n",
       "1             01_Uno\n",
       "2    04_Cuatro_o_mas\n",
       "3             01_Uno\n",
       "4             02_Dos\n",
       "Name: bedrooms_disc, dtype: object"
      ]
     },
     "execution_count": 15,
     "metadata": {},
     "output_type": "execute_result"
    }
   ],
   "source": [
    "df.bedrooms_disc.head()"
   ]
  },
  {
   "cell_type": "code",
   "execution_count": 16,
   "id": "5eb48704",
   "metadata": {},
   "outputs": [
    {
     "data": {
      "image/png": "[encoded data removed]",
      "text/plain": [
       "<Figure size 640x480 with 1 Axes>"
      ]
     },
     "metadata": {},
     "output_type": "display_data"
    }
   ],
   "source": [
    "df.accommodates.value_counts().plot.bar();"
   ]
  },
  {
   "cell_type": "code",
   "execution_count": 17,
   "id": "90ca5634",
   "metadata": {},
   "outputs": [
    {
     "data": {
      "text/plain": [
       "0     3-4\n",
       "1     3-4\n",
       "2    5-16\n",
       "3    5-16\n",
       "4    5-16\n",
       "Name: accommodates_disc, dtype: category\n",
       "Categories (3, object): ['1-2' < '3-4' < '5-16']"
      ]
     },
     "execution_count": 17,
     "metadata": {},
     "output_type": "execute_result"
    }
   ],
   "source": [
    "df['accommodates_disc'] = pd.qcut(df.accommodates, [0.0,0.3,0.7,1.0], \n",
    "       labels = ['1-2', \"3-4\", \"5-16\"])\n",
    "\n",
    "df.accommodates_disc.head()"
   ]
  },
  {
   "cell_type": "code",
   "execution_count": 18,
   "id": "15e5bc19",
   "metadata": {},
   "outputs": [
    {
     "data": {
      "image/png": "[encoded data removed]",
      "text/plain": [
       "<Figure size 640x480 with 1 Axes>"
      ]
     },
     "metadata": {},
     "output_type": "display_data"
    }
   ],
   "source": [
    "pd.qcut(df.accommodates, [0.0,0.3,0.7,1.0]).value_counts().plot.bar();"
   ]
  },
  {
   "cell_type": "code",
   "execution_count": 19,
   "id": "d43b17dd",
   "metadata": {},
   "outputs": [
    {
     "data": {
      "image/png": "[encoded data removed]",
      "text/plain": [
       "<Figure size 640x480 with 1 Axes>"
      ]
     },
     "metadata": {},
     "output_type": "display_data"
    }
   ],
   "source": [
    "# now with beds\n",
    "\n",
    "pd.qcut(df.beds, [0.0,0.2,0.7,1.0]).value_counts().plot.bar();\n"
   ]
  },
  {
   "cell_type": "code",
   "execution_count": 20,
   "id": "0d1115d7",
   "metadata": {},
   "outputs": [
    {
     "data": {
      "text/plain": [
       "0     2-3\n",
       "1     2-3\n",
       "2    4-31\n",
       "3     0-1\n",
       "4    4-31\n",
       "Name: beds_disc, dtype: category\n",
       "Categories (3, object): ['0-1' < '2-3' < '4-31']"
      ]
     },
     "execution_count": 20,
     "metadata": {},
     "output_type": "execute_result"
    }
   ],
   "source": [
    "df['beds_disc'] = \\\n",
    "pd.qcut(df.beds, [0.0,0.2,0.7,1.0], \n",
    "       labels = ['0-1', \"2-3\", \"4-31\"])\n",
    "\n",
    "df.beds_disc.head()"
   ]
  },
  {
   "cell_type": "code",
   "execution_count": 21,
   "id": "03cb1edc",
   "metadata": {},
   "outputs": [
    {
     "data": {
      "image/png": "[encoded data removed]",
      "text/plain": [
       "<Figure size 640x480 with 1 Axes>"
      ]
     },
     "metadata": {},
     "output_type": "display_data"
    }
   ],
   "source": [
    "# reviews\n",
    "\n",
    "pd.qcut(df.number_of_reviews, [0.0,0.2,0.7,1.0]).value_counts().plot.bar();\n"
   ]
  },
  {
   "cell_type": "code",
   "execution_count": 22,
   "id": "c5944794",
   "metadata": {},
   "outputs": [
    {
     "data": {
      "text/plain": [
       "0     2-3\n",
       "1     2-3\n",
       "2    4-31\n",
       "3     0-1\n",
       "4    4-31\n",
       "Name: beds_disc, dtype: category\n",
       "Categories (3, object): ['0-1' < '2-3' < '4-31']"
      ]
     },
     "execution_count": 22,
     "metadata": {},
     "output_type": "execute_result"
    }
   ],
   "source": [
    "df['number_of_reviews_disc'] = \\\n",
    "pd.qcut(df.beds, [0.0,0.2,0.7,1.0], \n",
    "       labels = ['0-1', \"2-37\", \"38-860\"])\n",
    "\n",
    "df.beds_disc.head()"
   ]
  },
  {
   "cell_type": "markdown",
   "id": "149cf605",
   "metadata": {},
   "source": [
    "### Vale, seguimos"
   ]
  },
  {
   "cell_type": "code",
   "execution_count": 23,
   "id": "700733a4",
   "metadata": {},
   "outputs": [
    {
     "data": {
      "text/plain": [
       "0     70\n",
       "1     50\n",
       "2    160\n",
       "3     50\n",
       "4     70\n",
       "Name: m2, dtype: int64"
      ]
     },
     "execution_count": 23,
     "metadata": {},
     "output_type": "execute_result"
    }
   ],
   "source": [
    "# we are going to establish some m2 assigned to each floor,\n",
    "# these are going to be assumptions with a lot of error\n",
    "\n",
    "condiciones = [df.bedrooms ==1 , \n",
    "               df.bedrooms ==2, \n",
    "               df.bedrooms ==3,\n",
    "               df.bedrooms ==4,\n",
    "               df.bedrooms >4\n",
    "              ]\n",
    "\n",
    "resultados = [50,70,90,120,160]\n",
    "\n",
    "df['m2'] = np.select(condiciones, resultados, default = -999)\n",
    "\n",
    "df.m2.head()"
   ]
  },
  {
   "cell_type": "code",
   "execution_count": 24,
   "id": "d5122368",
   "metadata": {},
   "outputs": [
    {
     "data": {
      "text/plain": [
       "m2\n",
       "50     5314\n",
       "70     1992\n",
       "90     1227\n",
       "120     347\n",
       "160     122\n",
       "Name: count, dtype: int64"
      ]
     },
     "execution_count": 24,
     "metadata": {},
     "output_type": "execute_result"
    }
   ],
   "source": [
    "df.m2.value_counts()"
   ]
  },
  {
   "cell_type": "code",
   "execution_count": 25,
   "id": "0d200201",
   "metadata": {},
   "outputs": [],
   "source": [
    "\n",
    "df['precio_compra'] = df.m2 * df.precio_m2 * 0.7 \n",
    "# we assume we can get it at a 70% discount from our negotiators\n"
   ]
  },
  {
   "cell_type": "code",
   "execution_count": 26,
   "id": "8b10f2b5",
   "metadata": {},
   "outputs": [
    {
     "data": {
      "text/html": [
       "<div>\n",
       "<style scoped>\n",
       "    .dataframe tbody tr th:only-of-type {\n",
       "        vertical-align: middle;\n",
       "    }\n",
       "\n",
       "    .dataframe tbody tr th {\n",
       "        vertical-align: top;\n",
       "    }\n",
       "\n",
       "    .dataframe thead th {\n",
       "        text-align: right;\n",
       "    }\n",
       "</style>\n",
       "<table border=\"1\" class=\"dataframe\">\n",
       "  <thead>\n",
       "    <tr style=\"text-align: right;\">\n",
       "      <th></th>\n",
       "      <th>bedrooms</th>\n",
       "      <th>m2</th>\n",
       "      <th>distrito</th>\n",
       "      <th>precio_m2</th>\n",
       "      <th>precio_compra</th>\n",
       "    </tr>\n",
       "  </thead>\n",
       "  <tbody>\n",
       "    <tr>\n",
       "      <th>0</th>\n",
       "      <td>2.0</td>\n",
       "      <td>70</td>\n",
       "      <td>LA SAIDIA</td>\n",
       "      <td>2479</td>\n",
       "      <td>121471.0</td>\n",
       "    </tr>\n",
       "    <tr>\n",
       "      <th>1</th>\n",
       "      <td>1.0</td>\n",
       "      <td>50</td>\n",
       "      <td>CIUTAT VELLA</td>\n",
       "      <td>3832</td>\n",
       "      <td>134120.0</td>\n",
       "    </tr>\n",
       "    <tr>\n",
       "      <th>2</th>\n",
       "      <td>5.0</td>\n",
       "      <td>160</td>\n",
       "      <td>POBLATS MARITIMS</td>\n",
       "      <td>2662</td>\n",
       "      <td>298144.0</td>\n",
       "    </tr>\n",
       "    <tr>\n",
       "      <th>3</th>\n",
       "      <td>1.0</td>\n",
       "      <td>50</td>\n",
       "      <td>EXTRAMURS</td>\n",
       "      <td>3125</td>\n",
       "      <td>109375.0</td>\n",
       "    </tr>\n",
       "    <tr>\n",
       "      <th>4</th>\n",
       "      <td>2.0</td>\n",
       "      <td>70</td>\n",
       "      <td>CAMINS AL GRAU</td>\n",
       "      <td>2896</td>\n",
       "      <td>141904.0</td>\n",
       "    </tr>\n",
       "    <tr>\n",
       "      <th>5</th>\n",
       "      <td>2.0</td>\n",
       "      <td>70</td>\n",
       "      <td>CIUTAT VELLA</td>\n",
       "      <td>3832</td>\n",
       "      <td>187768.0</td>\n",
       "    </tr>\n",
       "    <tr>\n",
       "      <th>6</th>\n",
       "      <td>1.0</td>\n",
       "      <td>50</td>\n",
       "      <td>POBLATS MARITIMS</td>\n",
       "      <td>2662</td>\n",
       "      <td>93170.0</td>\n",
       "    </tr>\n",
       "    <tr>\n",
       "      <th>7</th>\n",
       "      <td>1.0</td>\n",
       "      <td>50</td>\n",
       "      <td>POBLATS MARITIMS</td>\n",
       "      <td>2662</td>\n",
       "      <td>93170.0</td>\n",
       "    </tr>\n",
       "    <tr>\n",
       "      <th>8</th>\n",
       "      <td>2.0</td>\n",
       "      <td>70</td>\n",
       "      <td>CAMINS AL GRAU</td>\n",
       "      <td>2896</td>\n",
       "      <td>141904.0</td>\n",
       "    </tr>\n",
       "    <tr>\n",
       "      <th>9</th>\n",
       "      <td>2.0</td>\n",
       "      <td>70</td>\n",
       "      <td>POBLATS MARITIMS</td>\n",
       "      <td>2662</td>\n",
       "      <td>130438.0</td>\n",
       "    </tr>\n",
       "    <tr>\n",
       "      <th>10</th>\n",
       "      <td>1.0</td>\n",
       "      <td>50</td>\n",
       "      <td>EL PLA DEL REAL</td>\n",
       "      <td>3534</td>\n",
       "      <td>123690.0</td>\n",
       "    </tr>\n",
       "    <tr>\n",
       "      <th>11</th>\n",
       "      <td>1.0</td>\n",
       "      <td>50</td>\n",
       "      <td>EL PLA DEL REAL</td>\n",
       "      <td>3534</td>\n",
       "      <td>123690.0</td>\n",
       "    </tr>\n",
       "    <tr>\n",
       "      <th>12</th>\n",
       "      <td>1.0</td>\n",
       "      <td>50</td>\n",
       "      <td>L'EIXAMPLE</td>\n",
       "      <td>4112</td>\n",
       "      <td>143920.0</td>\n",
       "    </tr>\n",
       "    <tr>\n",
       "      <th>13</th>\n",
       "      <td>4.0</td>\n",
       "      <td>120</td>\n",
       "      <td>POBLATS MARITIMS</td>\n",
       "      <td>2662</td>\n",
       "      <td>223608.0</td>\n",
       "    </tr>\n",
       "    <tr>\n",
       "      <th>14</th>\n",
       "      <td>1.0</td>\n",
       "      <td>50</td>\n",
       "      <td>ALGIROS</td>\n",
       "      <td>2792</td>\n",
       "      <td>97720.0</td>\n",
       "    </tr>\n",
       "    <tr>\n",
       "      <th>15</th>\n",
       "      <td>1.0</td>\n",
       "      <td>50</td>\n",
       "      <td>LA SAIDIA</td>\n",
       "      <td>2479</td>\n",
       "      <td>86765.0</td>\n",
       "    </tr>\n",
       "    <tr>\n",
       "      <th>16</th>\n",
       "      <td>1.0</td>\n",
       "      <td>50</td>\n",
       "      <td>EXTRAMURS</td>\n",
       "      <td>3125</td>\n",
       "      <td>109375.0</td>\n",
       "    </tr>\n",
       "    <tr>\n",
       "      <th>17</th>\n",
       "      <td>2.0</td>\n",
       "      <td>70</td>\n",
       "      <td>L'EIXAMPLE</td>\n",
       "      <td>4112</td>\n",
       "      <td>201488.0</td>\n",
       "    </tr>\n",
       "    <tr>\n",
       "      <th>18</th>\n",
       "      <td>2.0</td>\n",
       "      <td>70</td>\n",
       "      <td>POBLATS MARITIMS</td>\n",
       "      <td>2662</td>\n",
       "      <td>130438.0</td>\n",
       "    </tr>\n",
       "    <tr>\n",
       "      <th>19</th>\n",
       "      <td>2.0</td>\n",
       "      <td>70</td>\n",
       "      <td>CIUTAT VELLA</td>\n",
       "      <td>3832</td>\n",
       "      <td>187768.0</td>\n",
       "    </tr>\n",
       "  </tbody>\n",
       "</table>\n",
       "</div>"
      ],
      "text/plain": [
       "    bedrooms   m2          distrito  precio_m2  precio_compra\n",
       "0        2.0   70         LA SAIDIA       2479       121471.0\n",
       "1        1.0   50      CIUTAT VELLA       3832       134120.0\n",
       "2        5.0  160  POBLATS MARITIMS       2662       298144.0\n",
       "3        1.0   50         EXTRAMURS       3125       109375.0\n",
       "4        2.0   70    CAMINS AL GRAU       2896       141904.0\n",
       "5        2.0   70      CIUTAT VELLA       3832       187768.0\n",
       "6        1.0   50  POBLATS MARITIMS       2662        93170.0\n",
       "7        1.0   50  POBLATS MARITIMS       2662        93170.0\n",
       "8        2.0   70    CAMINS AL GRAU       2896       141904.0\n",
       "9        2.0   70  POBLATS MARITIMS       2662       130438.0\n",
       "10       1.0   50   EL PLA DEL REAL       3534       123690.0\n",
       "11       1.0   50   EL PLA DEL REAL       3534       123690.0\n",
       "12       1.0   50        L'EIXAMPLE       4112       143920.0\n",
       "13       4.0  120  POBLATS MARITIMS       2662       223608.0\n",
       "14       1.0   50           ALGIROS       2792        97720.0\n",
       "15       1.0   50         LA SAIDIA       2479        86765.0\n",
       "16       1.0   50         EXTRAMURS       3125       109375.0\n",
       "17       2.0   70        L'EIXAMPLE       4112       201488.0\n",
       "18       2.0   70  POBLATS MARITIMS       2662       130438.0\n",
       "19       2.0   70      CIUTAT VELLA       3832       187768.0"
      ]
     },
     "execution_count": 26,
     "metadata": {},
     "output_type": "execute_result"
    }
   ],
   "source": [
    "df[['bedrooms', \"m2\", 'distrito', 'precio_m2', 'precio_compra']].head(20)"
   ]
  },
  {
   "cell_type": "code",
   "execution_count": 2,
   "id": "88fc8f86",
   "metadata": {},
   "outputs": [],
   "source": [
    "# remember that this is just a rough indicator of how much it might cost to get it\n",
    "# it reflects reality, but it doesn't have to coincide."
   ]
  },
  {
   "cell_type": "markdown",
   "id": "8b5c3fd6",
   "metadata": {},
   "source": [
    "### Distance to points of interest"
   ]
  },
  {
   "cell_type": "code",
   "execution_count": 27,
   "id": "92af0e52",
   "metadata": {},
   "outputs": [],
   "source": [
    "from math import radians, cos, sin, asin, sqrt\n",
    "\n",
    "def haversine(lat1, lon1, lat2, lon2):\n",
    "\n",
    "      R = 6372.8 \n",
    "\n",
    "      dLat = radians(lat2 - lat1)\n",
    "      dLon = radians(lon2 - lon1)\n",
    "      lat1 = radians(lat1)\n",
    "      lat2 = radians(lat2)\n",
    "\n",
    "      a = sin(dLat/2)**2 + cos(lat1)*cos(lat2)*sin(dLon/2)**2\n",
    "      c = 2*asin(sqrt(a))\n",
    "\n",
    "      return R * c"
   ]
  },
  {
   "cell_type": "code",
   "execution_count": 28,
   "id": "f1eddd27",
   "metadata": {
    "scrolled": false
   },
   "outputs": [
    {
     "data": {
      "text/plain": [
       "distrito\n",
       "CAMINS AL GRAU        1.271280\n",
       "QUATRE CARRERES       1.495558\n",
       "ALGIROS               2.128718\n",
       "L'EIXAMPLE            2.150714\n",
       "EL PLA DEL REAL       2.248763\n",
       "POBLATS MARITIMS      2.352697\n",
       "CIUTAT VELLA          3.264724\n",
       "JESUS                 3.283503\n",
       "EXTRAMURS             3.413589\n",
       "BENIMACLET            3.587123\n",
       "PATRAIX               3.959234\n",
       "LA SAIDIA             4.077861\n",
       "L'OLIVERETA           4.603434\n",
       "RASCANYA              4.729975\n",
       "CAMPANAR              4.980256\n",
       "BENICALAP             5.595700\n",
       "POBLATS DE L'OEST     7.592529\n",
       "POBLATS DEL NORD      7.863311\n",
       "POBLATS DEL SUD      13.250605\n",
       "Name: pdi_arts, dtype: float64"
      ]
     },
     "execution_count": 28,
     "metadata": {},
     "output_type": "execute_result"
    }
   ],
   "source": [
    "# well, I'm going to look for a point of interest in Valencia\n",
    "# ciutat de les arts i les ciences, for example\n",
    "\n",
    "#39°27′16″N 0°21′01″O\n",
    "\n",
    "lat_arts = 39.4544444\n",
    "lon_arts = -0.35027777\n",
    "\n",
    "\n",
    "# pdi: puntos de interés\n",
    "df['pdi_arts'] = df.apply(\n",
    "    lambda registro: haversine(lat_arts,lon_arts,registro.latitude,registro.longitude),\n",
    "    axis = 1)\n",
    "\n",
    "df.groupby('distrito').pdi_arts.mean().sort_values()\n"
   ]
  },
  {
   "cell_type": "code",
   "execution_count": 29,
   "id": "9321b4bd",
   "metadata": {},
   "outputs": [
    {
     "data": {
      "text/plain": [
       "9002"
      ]
     },
     "execution_count": 29,
     "metadata": {},
     "output_type": "execute_result"
    }
   ],
   "source": [
    "df.to_sql('df_preparado', con = con, if_exists='replace')"
   ]
  }
 ],
 "metadata": {
  "kernelspec": {
   "display_name": "Python 3 (ipykernel)",
   "language": "python",
   "name": "python3"
  },
  "language_info": {
   "codemirror_mode": {
    "name": "ipython",
    "version": 3
   },
   "file_extension": ".py",
   "mimetype": "text/x-python",
   "name": "python",
   "nbconvert_exporter": "python",
   "pygments_lexer": "ipython3",
   "version": "3.8.18"
  },
  "toc": {
   "base_numbering": 1,
   "nav_menu": {},
   "number_sections": true,
   "sideBar": true,
   "skip_h1_title": false,
   "title_cell": "Table of Contents",
   "title_sidebar": "Contents",
   "toc_cell": true,
   "toc_position": {},
   "toc_section_display": true,
   "toc_window_display": false
  },
  "varInspector": {
   "cols": {
    "lenName": 16,
    "lenType": 16,
    "lenVar": 40
   },
   "kernels_config": {
    "python": {
     "delete_cmd_postfix": "",
     "delete_cmd_prefix": "del ",
     "library": "var_list.py",
     "varRefreshCmd": "print(var_dic_list())"
    },
    "r": {
     "delete_cmd_postfix": ") ",
     "delete_cmd_prefix": "rm(",
     "library": "var_list.r",
     "varRefreshCmd": "cat(var_dic_list()) "
    }
   },
   "oldHeight": 122.85033399999999,
   "position": {
    "height": "305.85px",
    "left": "698.9px",
    "right": "20px",
    "top": "121px",
    "width": "297.733px"
   },
   "types_to_exclude": [
    "module",
    "function",
    "builtin_function_or_method",
    "instance",
    "_Feature"
   ],
   "varInspector_section_display": "block",
   "window_display": true
  }
 },
 "nbformat": 4,
 "nbformat_minor": 5
}
